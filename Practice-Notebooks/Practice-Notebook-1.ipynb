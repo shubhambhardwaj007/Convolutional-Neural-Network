{
 "cells": [
  {
   "cell_type": "code",
   "execution_count": 1,
   "id": "6163a493",
   "metadata": {},
   "outputs": [],
   "source": [
    "import cv2"
   ]
  },
  {
   "cell_type": "code",
   "execution_count": 2,
   "id": "467d9694",
   "metadata": {},
   "outputs": [],
   "source": [
    "photo = cv2.imread(\"/root/Test-Images/test_image1.jpg\")"
   ]
  },
  {
   "cell_type": "code",
   "execution_count": 3,
   "id": "556d2e5e",
   "metadata": {},
   "outputs": [
    {
     "data": {
      "text/plain": [
       "array([[[161, 141, 116],\n",
       "        [165, 145, 120],\n",
       "        [163, 143, 118],\n",
       "        ...,\n",
       "        [162, 143, 116],\n",
       "        [165, 146, 119],\n",
       "        [168, 149, 122]],\n",
       "\n",
       "       [[160, 140, 115],\n",
       "        [160, 140, 115],\n",
       "        [162, 142, 117],\n",
       "        ...,\n",
       "        [166, 147, 120],\n",
       "        [165, 146, 119],\n",
       "        [164, 145, 118]],\n",
       "\n",
       "       [[157, 140, 114],\n",
       "        [158, 141, 115],\n",
       "        [158, 141, 115],\n",
       "        ...,\n",
       "        [165, 147, 118],\n",
       "        [166, 147, 120],\n",
       "        [166, 147, 120]],\n",
       "\n",
       "       ...,\n",
       "\n",
       "       [[ 86,  77,  63],\n",
       "        [ 80,  71,  57],\n",
       "        [ 74,  65,  51],\n",
       "        ...,\n",
       "        [ 34,  25,  15],\n",
       "        [ 27,  19,   6],\n",
       "        [ 27,  19,   6]],\n",
       "\n",
       "       [[ 85,  74,  60],\n",
       "        [ 90,  79,  65],\n",
       "        [ 81,  72,  58],\n",
       "        ...,\n",
       "        [ 37,  28,  18],\n",
       "        [ 21,  13,   0],\n",
       "        [ 21,  13,   0]],\n",
       "\n",
       "       [[ 78,  67,  53],\n",
       "        [ 81,  70,  56],\n",
       "        [ 78,  70,  53],\n",
       "        ...,\n",
       "        [ 39,  30,  20],\n",
       "        [ 47,  39,  26],\n",
       "        [ 51,  43,  30]]], dtype=uint8)"
      ]
     },
     "execution_count": 3,
     "metadata": {},
     "output_type": "execute_result"
    }
   ],
   "source": [
    "photo"
   ]
  },
  {
   "cell_type": "code",
   "execution_count": 9,
   "id": "a58de794",
   "metadata": {},
   "outputs": [
    {
     "data": {
      "text/plain": [
       "(900, 900, 3)"
      ]
     },
     "execution_count": 9,
     "metadata": {},
     "output_type": "execute_result"
    }
   ],
   "source": [
    "photo.shape"
   ]
  },
  {
   "cell_type": "code",
   "execution_count": 5,
   "id": "244a038f",
   "metadata": {},
   "outputs": [],
   "source": [
    "cv2.imshow(\"hello\",photo)\n",
    "cv2.waitKey()\n",
    "cv2.destroyAllWindows()"
   ]
  },
  {
   "cell_type": "code",
   "execution_count": null,
   "id": "08e90583",
   "metadata": {},
   "outputs": [],
   "source": []
  }
 ],
 "metadata": {
  "kernelspec": {
   "display_name": "Python 3",
   "language": "python",
   "name": "python3"
  },
  "language_info": {
   "codemirror_mode": {
    "name": "ipython",
    "version": 3
   },
   "file_extension": ".py",
   "mimetype": "text/x-python",
   "name": "python",
   "nbconvert_exporter": "python",
   "pygments_lexer": "ipython3",
   "version": "3.7.10"
  }
 },
 "nbformat": 4,
 "nbformat_minor": 5
}
